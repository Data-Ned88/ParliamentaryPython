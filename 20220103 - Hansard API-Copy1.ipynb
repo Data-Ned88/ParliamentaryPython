{
 "cells": [
  {
   "cell_type": "code",
   "execution_count": 1,
   "metadata": {},
   "outputs": [],
   "source": [
    "#FINAL#\n",
    "\n",
    "\n",
    "import requests\n",
    "import json\n",
    "from datetime import datetime, timedelta\n",
    "from time import sleep\n",
    "import csv\n",
    "import re"
   ]
  },
  {
   "cell_type": "code",
   "execution_count": 2,
   "metadata": {},
   "outputs": [],
   "source": [
    "#FINAL#\n",
    "linksurl = \"LinksPMQsMasterRolling.csv\" \n",
    "#rolling database file of Dates that PMQ debates happened and Hansard links to their transcripts"
   ]
  },
  {
   "cell_type": "markdown",
   "metadata": {},
   "source": [
    "api doc = https://hansard-api.parliament.uk/swagger/ui/index#!/Search/Search_SearchDebates"
   ]
  },
  {
   "cell_type": "code",
   "execution_count": 3,
   "metadata": {},
   "outputs": [],
   "source": [
    "#FINAL#\n",
    "baseurl = \"https://hansard-api.parliament.uk/search/debates.json?queryParameters.house=Commons&queryParameters.startDate={0}&queryParameters.endDate={0}&queryParameters.searchTerm=Oral%20Answers%20to%20Questions\""
   ]
  },
  {
   "cell_type": "code",
   "execution_count": 4,
   "metadata": {},
   "outputs": [
    {
     "name": "stdout",
     "output_type": "stream",
     "text": [
      "https://hansard-api.parliament.uk/search/debates.json?queryParameters.house=Commons&queryParameters.startDate=2023-07-12&queryParameters.endDate=2023-07-12&queryParameters.searchTerm=Oral%20Answers%20to%20Questions\n",
      "https://hansard-api.parliament.uk/search/debates.json?queryParameters.house=Commons&queryParameters.startDate=2023-07-19&queryParameters.endDate=2023-07-19&queryParameters.searchTerm=Oral%20Answers%20to%20Questions\n",
      "https://hansard-api.parliament.uk/search/debates.json?queryParameters.house=Commons&queryParameters.startDate=2023-07-26&queryParameters.endDate=2023-07-26&queryParameters.searchTerm=Oral%20Answers%20to%20Questions\n",
      "https://hansard-api.parliament.uk/search/debates.json?queryParameters.house=Commons&queryParameters.startDate=2023-08-02&queryParameters.endDate=2023-08-02&queryParameters.searchTerm=Oral%20Answers%20to%20Questions\n",
      "https://hansard-api.parliament.uk/search/debates.json?queryParameters.house=Commons&queryParameters.startDate=2023-08-09&queryParameters.endDate=2023-08-09&queryParameters.searchTerm=Oral%20Answers%20to%20Questions\n",
      "https://hansard-api.parliament.uk/search/debates.json?queryParameters.house=Commons&queryParameters.startDate=2023-08-16&queryParameters.endDate=2023-08-16&queryParameters.searchTerm=Oral%20Answers%20to%20Questions\n",
      "https://hansard-api.parliament.uk/search/debates.json?queryParameters.house=Commons&queryParameters.startDate=2023-08-23&queryParameters.endDate=2023-08-23&queryParameters.searchTerm=Oral%20Answers%20to%20Questions\n",
      "https://hansard-api.parliament.uk/search/debates.json?queryParameters.house=Commons&queryParameters.startDate=2023-08-30&queryParameters.endDate=2023-08-30&queryParameters.searchTerm=Oral%20Answers%20to%20Questions\n",
      "https://hansard-api.parliament.uk/search/debates.json?queryParameters.house=Commons&queryParameters.startDate=2023-09-06&queryParameters.endDate=2023-09-06&queryParameters.searchTerm=Oral%20Answers%20to%20Questions\n",
      "https://hansard-api.parliament.uk/search/debates.json?queryParameters.house=Commons&queryParameters.startDate=2023-09-13&queryParameters.endDate=2023-09-13&queryParameters.searchTerm=Oral%20Answers%20to%20Questions\n",
      "https://hansard-api.parliament.uk/search/debates.json?queryParameters.house=Commons&queryParameters.startDate=2023-09-20&queryParameters.endDate=2023-09-20&queryParameters.searchTerm=Oral%20Answers%20to%20Questions\n",
      "https://hansard-api.parliament.uk/search/debates.json?queryParameters.house=Commons&queryParameters.startDate=2023-09-27&queryParameters.endDate=2023-09-27&queryParameters.searchTerm=Oral%20Answers%20to%20Questions\n",
      "https://hansard-api.parliament.uk/search/debates.json?queryParameters.house=Commons&queryParameters.startDate=2023-10-04&queryParameters.endDate=2023-10-04&queryParameters.searchTerm=Oral%20Answers%20to%20Questions\n",
      "https://hansard-api.parliament.uk/search/debates.json?queryParameters.house=Commons&queryParameters.startDate=2023-10-11&queryParameters.endDate=2023-10-11&queryParameters.searchTerm=Oral%20Answers%20to%20Questions\n"
     ]
    }
   ],
   "source": [
    "#FINAL#\n",
    "\n",
    "#new links check - checks the ones in the file, and identifies any new wednesdays\n",
    "with open(linksurl,'r+',newline='') as f:\n",
    "    f.readline()\n",
    "    txt = csv.reader(f)\n",
    "    dateslist = []\n",
    "    for t in txt:\n",
    "        dateslist.append(t[1])\n",
    "    latestd = max([datetime.strptime(x,'%d/%m/%Y') for x in dateslist])\n",
    "    now = datetime.now()\n",
    "    tdy = datetime(year=now.year,month=now.month,day=now.day)\n",
    "    #tdy = datetime(year=2023,month=4,day=22) \n",
    "    toscrape = []\n",
    "\n",
    "\n",
    "#latestd = datetime.strptime('20/09/2021','%d/%m/%Y')\n",
    "#now = datetime.now()\n",
    "#tdy = datetime(year=now.year,month=now.month,day=now.day)\n",
    "#toscrape = []\n",
    "    while latestd < tdy:\n",
    "        latestd = latestd + timedelta(1)\n",
    "        if datetime.strftime(latestd,\"%a\") == \"Wed\":\n",
    "            qdate = datetime.strftime(latestd,\"%Y-%m-%d\")\n",
    "            fdate = datetime.strftime(latestd,'%d/%m/%Y')\n",
    "            \n",
    "            #scrapeurl = linkscrape(baseurl.format(qdate,qdate),qdate)\n",
    "            print(baseurl.format(qdate,qdate))\n",
    "            src = baseurl.format(qdate,qdate)\n",
    "            _data = requests.get(src)\n",
    "            sleep(1)\n",
    "            jase = json.loads(_data.text)\n",
    "            resies = []\n",
    "            for j in jase['Results']:\n",
    "                resies.append(j[\"DebateSectionExtId\"])\n",
    "            if not resies is None:\n",
    "                \n",
    "                toscrape.append([resies,fdate])\n",
    "            \n",
    "\n",
    "\n",
    "\n",
    "\n",
    "\n",
    "    wri = csv.writer(f)\n",
    "    for tt in toscrape:\n",
    "        wri.writerow(tt)"
   ]
  },
  {
   "cell_type": "code",
   "execution_count": null,
   "metadata": {},
   "outputs": [],
   "source": [
    "#ADHOC CHECK\n",
    "\n",
    "latestd = datetime.strptime('20/09/2021','%d/%m/%Y')\n",
    "now = datetime.now()\n",
    "tdy = datetime(year=now.year,month=now.month,day=now.day)\n",
    "toscrape = []\n",
    "while latestd < tdy:\n",
    "    latestd = latestd + timedelta(1)\n",
    "    if datetime.strftime(latestd,\"%a\") == \"Wed\":\n",
    "        qdate = datetime.strftime(latestd,\"%Y-%m-%d\")\n",
    "        fdate = datetime.strftime(latestd,'%d/%m/%Y')\n",
    "        \n",
    "        #scrapeurl = linkscrape(baseurl.format(qdate,qdate),qdate)\n",
    "        print(baseurl.format(qdate,qdate))\n",
    "        src = baseurl.format(qdate,qdate)\n",
    "        _data = requests.get(src)\n",
    "        sleep(1)\n",
    "        jase = json.loads(_data.text)\n",
    "        resies = []\n",
    "        for j in jase['Results']:\n",
    "            resies.append(j[\"DebateSectionExtId\"])\n",
    "        if not resies is None:\n",
    "            \n",
    "            toscrape.append([resies,fdate])"
   ]
  },
  {
   "cell_type": "code",
   "execution_count": 5,
   "metadata": {},
   "outputs": [
    {
     "data": {
      "text/plain": [
       "[[['466F7380-BB52-41DE-A6F8-C8E41EACDD5E'], '12/07/2023'],\n",
       " [['715F79EA-262B-4D1A-BCD7-D528F8D1D945'], '19/07/2023'],\n",
       " [[], '26/07/2023'],\n",
       " [[], '02/08/2023'],\n",
       " [[], '09/08/2023'],\n",
       " [[], '16/08/2023'],\n",
       " [[], '23/08/2023'],\n",
       " [[], '30/08/2023'],\n",
       " [['16E9A353-DE76-4F58-BC81-36520CBA4DC4'], '06/09/2023'],\n",
       " [['0ECAEAAB-EA8A-4F6E-858A-07FEE93907BA'], '13/09/2023'],\n",
       " [[], '20/09/2023'],\n",
       " [[], '27/09/2023'],\n",
       " [[], '04/10/2023'],\n",
       " [[], '11/10/2023']]"
      ]
     },
     "execution_count": 5,
     "metadata": {},
     "output_type": "execute_result"
    }
   ],
   "source": [
    "toscrape"
   ]
  },
  {
   "cell_type": "code",
   "execution_count": 14,
   "metadata": {},
   "outputs": [],
   "source": [
    "test = requests.get(\"https://hansard-api.parliament.uk/search/debates.json?queryParameters.house=Commons&queryParameters.startDate=2021-12-15&queryParameters.endDate=2021-12-15&queryParameters.searchTerm=Oral%20Answers%20to%20Questions\")"
   ]
  },
  {
   "cell_type": "code",
   "execution_count": 6,
   "metadata": {},
   "outputs": [],
   "source": [
    "#FINAL\n",
    "\n",
    "debateq = \"https://hansard-api.parliament.uk/debates/debate/{0}.json\""
   ]
  },
  {
   "cell_type": "code",
   "execution_count": 7,
   "metadata": {},
   "outputs": [
    {
     "name": "stdout",
     "output_type": "stream",
     "text": [
      "No debates\n",
      "No debates\n",
      "No debates\n",
      "No debates\n",
      "No debates\n",
      "No debates\n",
      "No debates\n",
      "No debates\n",
      "No debates\n",
      "No debates\n"
     ]
    }
   ],
   "source": [
    "#FINAL\n",
    "\n",
    "#toscrape is a list of lists, with each inner list being a debate ID\n",
    "appendlist = []\n",
    "for t in toscrape:\n",
    "    if len(t[0]) == 0:\n",
    "        print('No debates')\n",
    "    elif len(t[0]) >= 2:\n",
    "        print('More than 1 debate with Questions in title - investigate manually')\n",
    "    else:\n",
    "        datx = datetime.strptime(t[1],'%d/%m/%Y')\n",
    "        datf = datetime.strftime(datx,\"%Y-%m-%d\")\n",
    "        debx = requests.get(debateq.format(t[0][0]))\n",
    "        debj = json.loads(debx.text)\n",
    "        appendlist.append([t[1],debj])"
   ]
  },
  {
   "cell_type": "code",
   "execution_count": null,
   "metadata": {},
   "outputs": [],
   "source": [
    "\n",
    "\n",
    "\n",
    "\n"
   ]
  },
  {
   "cell_type": "code",
   "execution_count": 8,
   "metadata": {},
   "outputs": [
    {
     "name": "stdout",
     "output_type": "stream",
     "text": [
      "0\n",
      "2\n",
      "12/07/2023 Oil Production and Domestic Energy Prices \n",
      "\n",
      "12/07/2023 Engagements \n",
      "\n",
      "0\n",
      "1\n",
      "0\n",
      "1\n",
      "0\n",
      "3\n",
      "13/09/2023 Engagements \n",
      "\n",
      "13/09/2023 West Midlands: Economic Outlook \n",
      "\n",
      "13/09/2023 Engagements \n",
      "\n"
     ]
    }
   ],
   "source": [
    "#FINAL\n",
    "\n",
    "\n",
    "contribs = []\n",
    "\n",
    "for app in appendlist:\n",
    "    dt = app[0]\n",
    "    jso = app[1]['ChildDebates']\n",
    "    for cdeb in jso:\n",
    "        \n",
    "        if 'prime minister' in cdeb['Overview']['Title'].lower():\n",
    "            itm = cdeb['Items']\n",
    "            itms_outside_cdebs = [i for i in itm if i['MemberId'] is not None]\n",
    "            print(len(itms_outside_cdebs))\n",
    "            subcdeb = cdeb['ChildDebates']\n",
    "            data = len(subcdeb)\n",
    "            print(data)\n",
    "            if data >1:\n",
    "                for c in subcdeb:\n",
    "                    print(dt,c['Overview']['Title'],'\\n')\n",
    "                    \n",
    "            for cx in subcdeb:\n",
    "                checksubdebs = len(cx['ChildDebates']) >= 1\n",
    "                if checksubdebs: print('1')\n",
    "                itms = [[dt,x['MemberId'],x['AttributedTo'],x['Timecode'],x['Value']] for x in cx['Items'] if x['ItemType'] == 'Contribution']\n",
    "                #itms = [x for x in cx['Items'] if x['ItemType'] == 'Contribution']\n",
    "                contribs.extend(itms)\n",
    "                \n",
    "\n",
    "\n",
    "\n",
    "#for x in appendlist[0]['ChildDebates']:\n",
    "#    if 'prime minister' in x['Overview']['Title'].lower():\n",
    "#        for j in x:\n",
    "#            if j == 'ChildDebates':\n",
    "#                #print(j,'---',x[j])\n",
    "#                for i in x[j]:\n",
    "#                    for p in i:\n",
    "#                        if p == 'Items':\n",
    "#                            #print(i[p])\n",
    "#                            for m in i[p]:\n",
    "#                                print(m)\n",
    "#                        #print(i,'\\n\\n')"
   ]
  },
  {
   "cell_type": "code",
   "execution_count": 9,
   "metadata": {
    "scrolled": true
   },
   "outputs": [
    {
     "data": {
      "text/plain": [
       "['13/09/2023',\n",
       " 467,\n",
       " 'Mr Speaker',\n",
       " None,\n",
       " 'May I just say thank you to Sir John Benger, in his final Prime Minister’s questions, for his loyal service to the House? We do appreciate it. Thank you, Sir John.']"
      ]
     },
     "execution_count": 9,
     "metadata": {},
     "output_type": "execute_result"
    }
   ],
   "source": [
    " contribs[-1]\n",
    "#for c in contribs:\n",
    "#    if c[1] is not None: print(c)"
   ]
  },
  {
   "cell_type": "code",
   "execution_count": 10,
   "metadata": {},
   "outputs": [],
   "source": [
    "#FINAL\n",
    "\n",
    "\n",
    "def cleanup(x):\n",
    "    \n",
    "    cleanups_log = []\n",
    "    straight_with_space = ['\\n','\\t','\\r','(LD):','(Con):','(Lab):','(Ind):','(Lab/Co-op):','\\x96',\n",
    "                           '\\x97','\\u2060','\\u07de','\\u2004','\\xa0','\\u2002','\\u2003','\\u2014']\n",
    "    for s in straight_with_space:\n",
    "        x = x.replace(s,' ')\n",
    "    straight_w_custom = [['\\u1d9c','c'],\n",
    "                         ['\\u011f','g'],['\\u0177','y'],['\\u0175','w'],['\\x93','\"'],['\\u201c','\"'],['\\u201d','\"'],\n",
    "                         ['\\u2019',\"'\"],['\\x92','\"'],['\\x94','\"'],['\\u0103','a'],['\\u010d','c']]\n",
    "    for s in straight_w_custom:\n",
    "        x = x.replace(s[0],s[1])\n",
    "        cleanups_log.append([s[0],s[1]])\n",
    "    \n",
    "    #regex replacements\n",
    "    \n",
    "        # mps names in brackets\n",
    "    membreg = ['Member for [A-Za-z\\s,\\-]{1,40}\\([A-Z][A-Za-z]{1,20} [A-Z][A-Za-z]{1,20}\\)',\n",
    "                  'Member for [A-Za-z\\s,\\-]{1,40}\\([A-Z][A-Za-z]{1,14} [A-Z][A-Za-z]{1,15} [A-Z][A-Za-z]{1,15}\\)']\n",
    "    xmembreg = '|'.join(membreg)    \n",
    "    if re.search(xmembreg,x):\n",
    "        mbmr = re.finditer(xmembreg,x)\n",
    "        \n",
    "        for d in mbmr:\n",
    "            new_d = re.sub('\\s\\([A-Za-z\\s]{1,}\\)$','',d[0])\n",
    "            x = x.replace(d[0],new_d)\n",
    "            cleanups_log.append([d[0],new_d])        \n",
    "    \n",
    "    complexr = ['<span ','data-house-id=\"[a-zA-Z0-9_\\-]{1,}\"',\n",
    "                'data-volume-number=\"[a-zA-Z0-9_\\-]{1,}\"',\n",
    "                'id=\"[a-zA-Z0-9_\\-]{1,}\"','class=\"[a-zA-Z0-9\\-]{1,}\"',\n",
    "     'data-column-number=\"[a-zA-Z0-9\\-]{1,}\"','</span>',\n",
    "                '</Question>','</QuestionText>','Q[1-9]{1,2}\\. ',\n",
    "                '<Question HRSContentId=\"\\{[A-Z0-9\\-]{1,}\\}\">','<QuestionText HRSContentId=\"\\{[A-Z0-9\\-]{1,}\\}\">',\n",
    "                '<em>Interruption.</em>','<em>Interruption</em>','\\[Interruption\\]','\\[Interruption\\.\\]',\n",
    "               '<em>','</em>',r'\\[Hon\\. Members: \"[\\W\\w]{1,28}\"\\]','\\[[A-Za-z0-9\\.;\\s,\\-]{1,65}\\]','\\[R\\] '\n",
    "                , #for training - remember that the first version didn't have a '-'\n",
    "                '\\[','\\]']\n",
    "    \n",
    "    for cm in complexr:\n",
    "        x = re.sub(cm,' ',x) #repeated space to space\n",
    "        cleanups_log.append([cm,' '])\n",
    "    \n",
    "    x = re.sub('\\s\\s+',' ',x) #repeated space to space\n",
    "    x = re.sub('^\\s+','',x) #leading space\n",
    "    x = re.sub('^Q[0-9]+\\.','',x) #leading Q with number for the questions\n",
    "    x = re.sub(' \\([0-9]+\\)\\s*','',x) #question entries brackets\n",
    "    x = re.sub(' \\[[0-9]+\\]\\s*','',x) #question entries square brackets\n",
    "    x = re.sub('\\s+$','',x) #trailing space\n",
    "    x = re.sub('[<>]','',x) #triangular brackets\n",
    "    x = re.sub('^[0-9]{1,2}\\.','',x) #leading number at start of question with no Q \n",
    "    return x,cleanups_log\n",
    "\n",
    "\n",
    "\n"
   ]
  },
  {
   "cell_type": "code",
   "execution_count": 20,
   "metadata": {},
   "outputs": [
    {
     "name": "stdout",
     "output_type": "stream",
     "text": [
      "<re.Match object; span=(0, 57), match='[Official Report, 8 December 2021; Vol. 705, c. 4>\n"
     ]
    }
   ],
   "source": [
    "regs = '\\[[A-Za-z0-9\\.;\\s,\\-]{1,65}\\]'\n",
    "testa = '[Official Report, 1 December 2021; Vol. 704, c. 909.]'\n",
    "testt = '[Official Report, 8 December 2021; Vol. 705, c. 499-500.]'\n",
    "\n",
    "print(re.search(regs,testt))"
   ]
  },
  {
   "cell_type": "markdown",
   "metadata": {},
   "source": [
    "— : clause indicator - replace with space.\n",
    "-: word joiner - leave alone\n",
    "\n",
    "\n",
    "Do a check for child debates within the child debates item of the json boject, and for contributions outslide of the child debates item."
   ]
  },
  {
   "cell_type": "code",
   "execution_count": 127,
   "metadata": {},
   "outputs": [
    {
     "data": {
      "text/plain": [
       "b'\\\\u2014'"
      ]
     },
     "execution_count": 127,
     "metadata": {},
     "output_type": "execute_result"
    }
   ],
   "source": [
    "s='—'\n",
    "s.encode(\"unicode_escape\") #include this in text cleaning section.\n"
   ]
  },
  {
   "cell_type": "code",
   "execution_count": 18,
   "metadata": {},
   "outputs": [
    {
     "data": {
      "text/plain": [
       "'data-driven help*me if you can*help'"
      ]
     },
     "execution_count": 18,
     "metadata": {},
     "output_type": "execute_result"
    }
   ],
   "source": [
    "testrep.replace(\"\\u2014\",\"*\")"
   ]
  },
  {
   "cell_type": "code",
   "execution_count": null,
   "metadata": {},
   "outputs": [],
   "source": []
  },
  {
   "cell_type": "code",
   "execution_count": 6,
   "metadata": {},
   "outputs": [],
   "source": [
    "#appendlist[0]['ChildDebates']"
   ]
  },
  {
   "cell_type": "code",
   "execution_count": 81,
   "metadata": {},
   "outputs": [
    {
     "name": "stdout",
     "output_type": "stream",
     "text": [
      "\n"
     ]
    }
   ],
   "source": [
    "print('\\x96')\n",
    "“"
   ]
  },
  {
   "cell_type": "markdown",
   "metadata": {},
   "source": [
    "https://www.codetable.net/hex/96 - checks unicode hex character codes, which look like \\x96 in Python\n",
    "https://www.compart.com/en/unicode/html - check for unicode character codes, which look like \\u2014 in python"
   ]
  },
  {
   "cell_type": "code",
   "execution_count": null,
   "metadata": {},
   "outputs": [],
   "source": []
  },
  {
   "cell_type": "code",
   "execution_count": null,
   "metadata": {},
   "outputs": [],
   "source": []
  },
  {
   "cell_type": "code",
   "execution_count": null,
   "metadata": {},
   "outputs": [],
   "source": []
  },
  {
   "cell_type": "code",
   "execution_count": null,
   "metadata": {},
   "outputs": [],
   "source": []
  },
  {
   "cell_type": "code",
   "execution_count": null,
   "metadata": {},
   "outputs": [],
   "source": []
  },
  {
   "cell_type": "code",
   "execution_count": 166,
   "metadata": {},
   "outputs": [
    {
     "data": {
      "text/plain": [
       "'[Hon. Members: \"Hear, hear.\"]'"
      ]
     },
     "execution_count": 166,
     "metadata": {},
     "output_type": "execute_result"
    }
   ],
   "source": [
    "list(re.finditer(r'\\[Hon\\. Members: \"[\\W\\w]{1,28}\"\\]','[Hon. Members: \"Hear, hear.\"]'))[0][0]"
   ]
  },
  {
   "cell_type": "code",
   "execution_count": 11,
   "metadata": {},
   "outputs": [],
   "source": [
    "\n",
    "#FINAL\n",
    "\n",
    "#mp_ids = []\n",
    "for c in contribs:\n",
    "    cleaned,reps = cleanup(c[4])\n",
    "    c.append(cleaned)\n",
    "    c.append(reps)\n",
    "    \n",
    "    #mp_ids.append(c[1])\n",
    "    "
   ]
  },
  {
   "cell_type": "code",
   "execution_count": 12,
   "metadata": {},
   "outputs": [],
   "source": [
    "#FINAL\n",
    "\n",
    "\n",
    "allmps = list(set([c[1] for c in contribs if c[1] is not None]))"
   ]
  },
  {
   "cell_type": "code",
   "execution_count": 13,
   "metadata": {},
   "outputs": [],
   "source": [
    "#FINAL\n",
    "\n",
    "\n",
    "mpqs = \"https://hansard-api.parliament.uk/search/members.json?queryParameters.house=Commons&queryParameters.memberId={0}\""
   ]
  },
  {
   "cell_type": "code",
   "execution_count": 192,
   "metadata": {},
   "outputs": [],
   "source": [
    "#Original info scrape - do not run. Run file import instead\n",
    "\n",
    "\n",
    "mp_data_list = {}\n",
    "for mp in allmps:\n",
    "    qrs = mpqs.format(mp)\n",
    "    q = requests.get(qrs)\n",
    "    mpjson = json.loads(q.text)\n",
    "    mpdict = mpjson['Results'][0]\n",
    "    mp_data = [mpdict['DisplayAs'],mpdict['Party'],mpdict['MemberFrom']]\n",
    "    mp_data_list[mp] = mp_data\n",
    "    sleep(1)"
   ]
  },
  {
   "cell_type": "code",
   "execution_count": 198,
   "metadata": {},
   "outputs": [],
   "source": [
    "parties = [mp_data_list[mp][1] for mp in mp_data_list]"
   ]
  },
  {
   "cell_type": "raw",
   "metadata": {},
   "source": [
    "set(parties)"
   ]
  },
  {
   "cell_type": "code",
   "execution_count": 14,
   "metadata": {},
   "outputs": [],
   "source": [
    "#FINAL\n",
    "\n",
    "\n",
    "role_override = {#1423:['PM','Con','Boris Johnson'],\n",
    "            #4390:['ThirdPartyLead','SNP','Ian Blackford'],\n",
    "            1510:['Dep LOE (replacing)','Lab','Ed Miliband'],\n",
    "            4356:['Dep LOE (replacing)','Lab','Angela Rayner'],\n",
    "            #4007:['Dep PM (replacing)','Con','Dominic Raab'],\n",
    "            4441:['Dep PM (replacing)','Con','Oliver Dowden'],\n",
    "            4514:['LOE','Lab','Kier Starmer'],\n",
    "            467:['Speaker','Speakers','Lindsay Hoyle'],\n",
    "            36:['Deputy Speaker','Speakers','Eleanor Laing'],\n",
    "            #4097:['PM','Con','Elizabeth Truss'],\n",
    "            4483:['PM','Con','Rishi Sunak'],\n",
    "            4735:['ThirdPartyLead','SNP','Stephen Flynn']\n",
    "}\n",
    "\n",
    "\n",
    "\n",
    "\n",
    "partytext = {'Alba Party':'Alba (Sco)',\n",
    " 'Alliance':'Alliance (NI)',\n",
    " 'Conservative':'Con',\n",
    " 'Democratic Unionist Party':'DUP',\n",
    " 'Green Party':'Green',\n",
    " 'Independent':'Independent',\n",
    " 'Labour':'Lab',\n",
    " 'Labour (Co-op)':'Lab',\n",
    " 'Liberal Democrat':'LD',\n",
    " 'Plaid Cymru':'Plaid Cymru',\n",
    " 'Scottish National Party':'SNP',\n",
    " 'Social Democratic & Labour Party':'SDLP',\n",
    " 'Speaker':'Speakers'}"
   ]
  },
  {
   "cell_type": "code",
   "execution_count": 215,
   "metadata": {},
   "outputs": [
    {
     "name": "stdout",
     "output_type": "stream",
     "text": [
      "['Angela Rayner', 'Lab', 'Ashton-under-Lyne', 'Dep LOE (replacing)']\n",
      "['Ian Blackford', 'SNP', 'Ross, Skye and Lochaber', 'ThirdPartyLead']\n",
      "['Boris Johnson', 'Con', 'Uxbridge and South Ruislip', 'PM']\n",
      "['Kier Starmer', 'Lab', 'Holborn and St Pancras', 'LOE']\n",
      "['Dominic Raab', 'Con', 'Esher and Walton', 'Dep PM (replacing)']\n",
      "['Lindsay Hoyle', 'Speakers', 'Chorley', 'Speaker']\n",
      "['Ed Miliband', 'Lab', 'Doncaster North', 'Dep LOE (replacing)']\n"
     ]
    }
   ],
   "source": [
    "for m in mp_data_list:\n",
    "    if m in role_override:\n",
    "        mp_data_list[m][0] = role_override[m][2]\n",
    "        mp_data_list[m][1] = role_override[m][1]\n",
    "        \n",
    "        mp_data_list[m].append(role_override[m][0])\n",
    "        print(mp_data_list[m])\n",
    "    else:\n",
    "        mp_data_list[m].append('BB')"
   ]
  },
  {
   "cell_type": "code",
   "execution_count": 15,
   "metadata": {},
   "outputs": [],
   "source": [
    "#FINAL\n",
    "_pmqmaster = \"ALLCONTRIBSMASTER -CAT.txt\" # ROlling raw transcripts Database file\n",
    "_catmps = \"MPRolling.txt\" # Rolling lookup file of MPs with party info."
   ]
  },
  {
   "cell_type": "code",
   "execution_count": 224,
   "metadata": {},
   "outputs": [],
   "source": [
    "#with open(_catmps,'w',newline='') as mpf:\n",
    "#    wrt = csv.writer(mpf, delimiter='\\t')\n",
    "#    wrt.writerow(['MPID','Name','Party','Constituency','Role'])\n",
    "#    for m in mp_data_list:\n",
    "#        rw = [m]\n",
    "#        rw.extend(mp_data_list[m])\n",
    "#        wrt.writerow(rw)"
   ]
  },
  {
   "cell_type": "code",
   "execution_count": null,
   "metadata": {},
   "outputs": [],
   "source": []
  },
  {
   "cell_type": "code",
   "execution_count": 16,
   "metadata": {},
   "outputs": [],
   "source": [
    "#FINAL\n",
    "\n",
    "\n",
    "#read catfile into dictionary\n",
    "mp_data_list = {}\n",
    "\n",
    "with open(_catmps,'r',newline='') as mpf:\n",
    "    mpf.readline()\n",
    "    rdr = csv.reader(mpf, delimiter='\\t')\n",
    "    \n",
    "    for r in rdr:\n",
    "        mp_data_list[int(r[0])] = r[1:]"
   ]
  },
  {
   "cell_type": "code",
   "execution_count": 17,
   "metadata": {},
   "outputs": [],
   "source": [
    "#FINAL\n",
    "mps_not_in_list = list(set(allmps).difference(set([m for m in mp_data_list])))"
   ]
  },
  {
   "cell_type": "code",
   "execution_count": 18,
   "metadata": {},
   "outputs": [
    {
     "data": {
      "text/plain": [
       "[1440, 4066, 3945, 4682, 429, 3919, 1585]"
      ]
     },
     "execution_count": 18,
     "metadata": {},
     "output_type": "execute_result"
    }
   ],
   "source": [
    "mps_not_in_list"
   ]
  },
  {
   "cell_type": "code",
   "execution_count": 21,
   "metadata": {},
   "outputs": [
    {
     "data": {
      "text/plain": [
       "{'Results': [{'MemberId': 4483,\n",
       "   'DodsId': 136507,\n",
       "   'PimsId': 6165,\n",
       "   'DisplayAs': 'Rishi Sunak',\n",
       "   'ListAs': 'Sunak, Rishi',\n",
       "   'FullTitle': 'Rt Hon Rishi Sunak MP',\n",
       "   'LayingMinisterName': 'The Prime Minister',\n",
       "   'HistoricalMemberName': None,\n",
       "   'HistoricalFullTitle': None,\n",
       "   'Gender': 'M',\n",
       "   'Party': 'Conservative',\n",
       "   'PartyId': 4,\n",
       "   'House': 'Commons',\n",
       "   'MemberFrom': 'Richmond (Yorks)',\n",
       "   'HouseStartDate': '2015-05-07T00:00:00',\n",
       "   'HouseEndDate': None,\n",
       "   'IsTeller': False,\n",
       "   'SortOrder': 0,\n",
       "   'ConstituencyCountry': 'E'}],\n",
       " 'TotalResultCount': 1}"
      ]
     },
     "execution_count": 21,
     "metadata": {},
     "output_type": "execute_result"
    }
   ],
   "source": [
    "qrs = mpqs.format(4483)\n",
    "qrs\n",
    "json.loads(requests.get(qrs).text)"
   ]
  },
  {
   "cell_type": "code",
   "execution_count": 19,
   "metadata": {},
   "outputs": [],
   "source": [
    "#FINAL\n",
    "\n",
    "\n",
    "#new mps from latest scrape - would run an API call against this,\n",
    "if mps_not_in_list:\n",
    "    \n",
    "    # do the calls and add to new dict list\n",
    "    mp_data_list_n = {}\n",
    "    for mp in mps_not_in_list:\n",
    "        qrs = mpqs.format(mp)\n",
    "        q = requests.get(qrs)\n",
    "        mpjson = json.loads(q.text)\n",
    "        mpdict = mpjson['Results'][0]\n",
    "        mp_data = [mpdict['DisplayAs'],mpdict['Party'],mpdict['MemberFrom']]\n",
    "        mp_data_list_n[mp] = mp_data\n",
    "        sleep(1)\n",
    "    #update parties\n",
    "    for m in mp_data_list_n:\n",
    "        mp_data_list_n[m][1] = partytext[mp_data_list_n[m][1]]\n",
    "    # roles and specific member exceptions\n",
    "    for m in mp_data_list_n:\n",
    "        if m in role_override:\n",
    "            mp_data_list_n[m][0] = role_override[m][2]\n",
    "            mp_data_list_n[m][1] = role_override[m][1]\n",
    "            \n",
    "            mp_data_list_n[m].append(role_override[m][0])\n",
    "            print(mp_data_list_n[m])\n",
    "        else:\n",
    "            mp_data_list_n[m].append('BB')\n",
    "    # add them to the existing list\n",
    "    for m in mp_data_list_n:\n",
    "        mp_data_list[m] = mp_data_list_n[m]\n",
    "    # rewrite mp lookup file to reflect updates.   \n",
    "    with open(_catmps,'w',newline='') as mpf:\n",
    "        wrt = csv.writer(mpf, delimiter='\\t')\n",
    "        wrt.writerow(['MPID','Name','Party','Constituency','Role'])\n",
    "        for m in mp_data_list:\n",
    "            rw = [m]\n",
    "            rw.extend(mp_data_list[m])\n",
    "            wrt.writerow(rw)"
   ]
  },
  {
   "cell_type": "code",
   "execution_count": 20,
   "metadata": {},
   "outputs": [],
   "source": [
    "#FINAL\n",
    "\n",
    "\n",
    "with open(_pmqmaster,'a',newline='') as fl:\n",
    "    wrt = csv.writer(fl,delimiter='\\t')\n",
    "\n",
    "\n",
    "    for cn in contribs:\n",
    "        if cn[1] is not None:\n",
    "        \n",
    "    \n",
    "            cnrow = [cleanup(cn[2])[0], #unrefined text name\n",
    "             '',\n",
    "             '/search/MemberContributions?house=Commons&memberId={0}'.format(cn[1]), # link for mp\n",
    "             cn[5], #clean text\n",
    "             cn[0], #date\n",
    "             mp_data_list[cn[1]][3], #role\n",
    "             mp_data_list[cn[1]][1], #party\n",
    "             mp_data_list[cn[1]][0], #name\n",
    "            ]\n",
    "            wrt.writerow(cnrow)"
   ]
  },
  {
   "cell_type": "code",
   "execution_count": null,
   "metadata": {},
   "outputs": [],
   "source": []
  },
  {
   "cell_type": "code",
   "execution_count": null,
   "metadata": {},
   "outputs": [],
   "source": []
  },
  {
   "cell_type": "code",
   "execution_count": null,
   "metadata": {},
   "outputs": [],
   "source": []
  }
 ],
 "metadata": {
  "kernelspec": {
   "display_name": "Python 3 (ipykernel)",
   "language": "python",
   "name": "python3"
  },
  "language_info": {
   "codemirror_mode": {
    "name": "ipython",
    "version": 3
   },
   "file_extension": ".py",
   "mimetype": "text/x-python",
   "name": "python",
   "nbconvert_exporter": "python",
   "pygments_lexer": "ipython3",
   "version": "3.8.5"
  }
 },
 "nbformat": 4,
 "nbformat_minor": 4
}
